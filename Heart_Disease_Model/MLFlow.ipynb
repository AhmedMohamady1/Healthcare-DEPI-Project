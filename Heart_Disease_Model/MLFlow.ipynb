{
 "cells": [
  {
   "cell_type": "code",
   "execution_count": 43,
   "id": "3349822c-d53a-46d6-80f7-2115c53f8e7e",
   "metadata": {},
   "outputs": [],
   "source": [
    "from sklearn.datasets import load_iris\n",
    "from sklearn.model_selection import train_test_split\n",
    "from sklearn.ensemble import RandomForestClassifier\n",
    "from sklearn.linear_model import LogisticRegression\n",
    "from sklearn.metrics import accuracy_score\n",
    "\n",
    "X, y = load_iris(return_X_y=True)\n",
    "X_train, X_test, y_train, y_test = train_test_split(X, y, random_state=42)\n",
    "\n"
   ]
  },
  {
   "cell_type": "code",
   "execution_count": 44,
   "id": "0a5b0b89-965b-41b2-a9f0-ff9f0381e4ba",
   "metadata": {},
   "outputs": [
    {
     "name": "stdout",
     "output_type": "stream",
     "text": [
      "Random Forest Accuracy: 1.0000\n"
     ]
    }
   ],
   "source": [
    "rf_model = RandomForestClassifier(n_estimators=100, random_state=42)\n",
    "rf_model.fit(X_train, y_train)\n",
    "rf_preds = rf_model.predict(X_test)\n",
    "rf_acc = accuracy_score(y_test, rf_preds)\n",
    "print(f\"Random Forest Accuracy: {rf_acc:.4f}\")\n"
   ]
  },
  {
   "cell_type": "code",
   "execution_count": 45,
   "id": "3a94e3a4-d312-4b5d-acfe-cc3a29931f39",
   "metadata": {},
   "outputs": [
    {
     "name": "stdout",
     "output_type": "stream",
     "text": [
      "Logistic Regression Accuracy: 1.0000\n"
     ]
    }
   ],
   "source": [
    "lr_model = LogisticRegression(max_iter=200)\n",
    "lr_model.fit(X_train, y_train)\n",
    "lr_preds = lr_model.predict(X_test)\n",
    "lr_acc = accuracy_score(y_test, lr_preds)\n",
    "print(f\"Logistic Regression Accuracy: {lr_acc:.4f}\")\n"
   ]
  },
  {
   "cell_type": "code",
   "execution_count": 46,
   "id": "fed12f1a-3cc2-48cd-9ee1-1640471f639f",
   "metadata": {},
   "outputs": [],
   "source": [
    "import mlflow\n",
    "import mlflow.sklearn\n",
    "from sklearn.datasets import load_iris\n",
    "from sklearn.model_selection import train_test_split\n",
    "from sklearn.linear_model import LogisticRegression\n",
    "from sklearn.ensemble import RandomForestClassifier\n",
    "from sklearn.metrics import accuracy_score\n",
    "\n",
    "iris = load_iris()\n",
    "X, y = iris.data, iris.target\n",
    "X_train, X_test, y_train, y_test = train_test_split(X, y, test_size=0.2, random_state=42)\n"
   ]
  },
  {
   "cell_type": "code",
   "execution_count": 47,
   "id": "65ff104f-c7ae-4918-8cd5-fa6c3d54b6b2",
   "metadata": {},
   "outputs": [],
   "source": [
    "mlflow.set_tracking_uri(\"http://127.0.0.1:5000\")"
   ]
  },
  {
   "cell_type": "code",
   "execution_count": 48,
   "id": "2f09f6b7-9e1b-4dbb-adca-348ae7954e72",
   "metadata": {},
   "outputs": [],
   "source": [
    "model1 = LogisticRegression(max_iter=200)\n",
    "model1.fit(X_train, y_train)\n",
    "y_pred1 = model1.predict(X_test)\n",
    "accuracy1 = accuracy_score(y_test, y_pred1)\n"
   ]
  },
  {
   "cell_type": "code",
   "execution_count": 49,
   "id": "86d639d4-34d7-4d08-b2cd-cce6c7bee55e",
   "metadata": {},
   "outputs": [],
   "source": [
    "model2 = RandomForestClassifier(n_estimators=100, random_state=42)\n",
    "model2.fit(X_train, y_train)\n",
    "y_pred2 = model2.predict(X_test)\n",
    "accuracy2 = accuracy_score(y_test, y_pred2)"
   ]
  },
  {
   "cell_type": "code",
   "execution_count": 50,
   "id": "63b02841-015d-46f6-a1a3-3b95c6e34475",
   "metadata": {},
   "outputs": [
    {
     "data": {
      "text/plain": [
       "<Experiment: artifact_location='file:///home/yassin/Desktop/mlruns/833622210125871782', creation_time=1745949982920, experiment_id='833622210125871782', last_update_time=1745949982920, lifecycle_stage='active', name='Iris_Models', tags={}>"
      ]
     },
     "execution_count": 50,
     "metadata": {},
     "output_type": "execute_result"
    }
   ],
   "source": [
    "mlflow.set_experiment(\"Iris_Models\")"
   ]
  },
  {
   "cell_type": "code",
   "execution_count": 51,
   "id": "05264ea5-4567-4d8b-9c3e-3f56651a5d54",
   "metadata": {},
   "outputs": [
    {
     "name": "stderr",
     "output_type": "stream",
     "text": [
      "\u001b[31m2025/04/29 21:17:59 WARNING mlflow.models.model: Model logged without a signature and input example. Please set `input_example` parameter when logging the model to auto infer the model signature.\u001b[0m\n",
      "Successfully registered model 'Iris_LogisticRegression'.\n",
      "2025/04/29 21:17:59 INFO mlflow.store.model_registry.abstract_store: Waiting up to 300 seconds for model version to finish creation. Model name: Iris_LogisticRegression, version 1\n"
     ]
    },
    {
     "name": "stdout",
     "output_type": "stream",
     "text": [
      "Registered Logistic Regression as Iris_LogisticRegression\n",
      "🏃 View run Logistic_Regression at: http://127.0.0.1:5000/#/experiments/833622210125871782/runs/ffa0de46cb074fb5a962057e4bcce937\n",
      "🧪 View experiment at: http://127.0.0.1:5000/#/experiments/833622210125871782\n"
     ]
    },
    {
     "name": "stderr",
     "output_type": "stream",
     "text": [
      "Created version '1' of model 'Iris_LogisticRegression'.\n"
     ]
    }
   ],
   "source": [
    "with mlflow.start_run(run_name=\"Logistic_Regression\") as run:\n",
    "    mlflow.log_param(\"model_type\", \"LogisticRegression\")\n",
    "    mlflow.log_param(\"max_iter\", 200)\n",
    "    mlflow.log_metric(\"accuracy\", accuracy1)\n",
    "    mlflow.sklearn.log_model(model1, \"model\")\n",
    "    logistic_run_id = run.info.run_id\n",
    "    model_uri = f\"runs:/{logistic_run_id}/model\"\n",
    "    mlflow.register_model(model_uri, \"Iris_LogisticRegression\")\n",
    "    print(f\"Registered Logistic Regression as Iris_LogisticRegression\")"
   ]
  },
  {
   "cell_type": "code",
   "execution_count": 53,
   "id": "9236568b-2087-49c8-89e5-3e65b5397796",
   "metadata": {},
   "outputs": [
    {
     "name": "stderr",
     "output_type": "stream",
     "text": [
      "\u001b[31m2025/04/29 21:18:59 WARNING mlflow.models.model: Model logged without a signature and input example. Please set `input_example` parameter when logging the model to auto infer the model signature.\u001b[0m\n",
      "Registered model 'Iris_RandomForest' already exists. Creating a new version of this model...\n",
      "2025/04/29 21:18:59 INFO mlflow.store.model_registry.abstract_store: Waiting up to 300 seconds for model version to finish creation. Model name: Iris_RandomForest, version 2\n"
     ]
    },
    {
     "name": "stdout",
     "output_type": "stream",
     "text": [
      "Registered Random Forest as Iris_RandomForest\n",
      "🏃 View run Random_Forest at: http://127.0.0.1:5000/#/experiments/833622210125871782/runs/ee5850f7b44c4deb98a696a8406f5437\n",
      "🧪 View experiment at: http://127.0.0.1:5000/#/experiments/833622210125871782\n"
     ]
    },
    {
     "name": "stderr",
     "output_type": "stream",
     "text": [
      "Created version '2' of model 'Iris_RandomForest'.\n"
     ]
    }
   ],
   "source": [
    "with mlflow.start_run(run_name=\"Random_Forest\") as run:\n",
    "    mlflow.log_param(\"model_type\", \"RandomForestClassifier\")\n",
    "    mlflow.log_param(\"n_estimators\", 100)\n",
    "    mlflow.log_metric(\"accuracy\", accuracy2)\n",
    "    mlflow.sklearn.log_model(model2, \"model\")\n",
    "    rf_run_id = run.info.run_id\n",
    "    model_uri = f\"runs:/{rf_run_id}/model\"\n",
    "    mlflow.register_model(model_uri, \"Iris_RandomForest\")\n",
    "    print(f\"Registered Random Forest as Iris_RandomForest\")"
   ]
  },
  {
   "cell_type": "code",
   "execution_count": null,
   "id": "48c400df-ff01-4614-be09-35299572c982",
   "metadata": {},
   "outputs": [],
   "source": []
  },
  {
   "cell_type": "code",
   "execution_count": null,
   "id": "5a070f6d-9ae7-47f5-8d93-d29561cb4647",
   "metadata": {},
   "outputs": [],
   "source": []
  }
 ],
 "metadata": {
  "kernelspec": {
   "display_name": "Python 3 (ipykernel)",
   "language": "python",
   "name": "python3"
  },
  "language_info": {
   "codemirror_mode": {
    "name": "ipython",
    "version": 3
   },
   "file_extension": ".py",
   "mimetype": "text/x-python",
   "name": "python",
   "nbconvert_exporter": "python",
   "pygments_lexer": "ipython3",
   "version": "3.11.7"
  }
 },
 "nbformat": 4,
 "nbformat_minor": 5
}
