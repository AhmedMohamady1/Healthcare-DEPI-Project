{
  "cells": [
    {
      "cell_type": "code",
      "execution_count": 18,
      "metadata": {
        "id": "yPGZrXOU75sw"
      },
      "outputs": [],
      "source": [
        "import pandas as pd\n",
        "import numpy as np\n",
        "import matplotlib.pyplot as plt\n",
        "import seaborn as sns\n",
        "import mlflow\n",
        "import mlflow.sklearn"
      ]
    },
    {
      "cell_type": "code",
      "execution_count": 2,
      "metadata": {
        "colab": {
          "base_uri": "https://localhost:8080/",
          "height": 73
        },
        "id": "QXhwqfA9wM9Q",
        "outputId": "59e1cfc9-4154-40d2-f772-f49ff1f562f3"
      },
      "outputs": [],
      "source": [
        "'''from google.colab import files\n",
        "uploaded = files.upload()'''\n",
        "\n",
        "df = pd.read_csv('Cleaned_Diabetes.csv') # replace with actual filename from upload"
      ]
    },
    {
      "cell_type": "code",
      "execution_count": 3,
      "metadata": {
        "colab": {
          "base_uri": "https://localhost:8080/",
          "height": 256
        },
        "id": "aMK7wMaiSUR9",
        "outputId": "8592c04a-d29b-4fff-cf0c-d42687b71cab"
      },
      "outputs": [
        {
          "data": {
            "text/html": [
              "<div>\n",
              "<style scoped>\n",
              "    .dataframe tbody tr th:only-of-type {\n",
              "        vertical-align: middle;\n",
              "    }\n",
              "\n",
              "    .dataframe tbody tr th {\n",
              "        vertical-align: top;\n",
              "    }\n",
              "\n",
              "    .dataframe thead th {\n",
              "        text-align: right;\n",
              "    }\n",
              "</style>\n",
              "<table border=\"1\" class=\"dataframe\">\n",
              "  <thead>\n",
              "    <tr style=\"text-align: right;\">\n",
              "      <th></th>\n",
              "      <th>Diabetes_binary</th>\n",
              "      <th>HighBP</th>\n",
              "      <th>HighChol</th>\n",
              "      <th>CholCheck</th>\n",
              "      <th>BMI</th>\n",
              "      <th>Smoker</th>\n",
              "      <th>Stroke</th>\n",
              "      <th>HeartDiseaseorAttack</th>\n",
              "      <th>PhysActivity</th>\n",
              "      <th>Fruits</th>\n",
              "      <th>...</th>\n",
              "      <th>AnyHealthcare</th>\n",
              "      <th>NoDocbcCost</th>\n",
              "      <th>GenHlth</th>\n",
              "      <th>MentHlth</th>\n",
              "      <th>PhysHlth</th>\n",
              "      <th>DiffWalk</th>\n",
              "      <th>Sex</th>\n",
              "      <th>Age</th>\n",
              "      <th>Education</th>\n",
              "      <th>Income</th>\n",
              "    </tr>\n",
              "  </thead>\n",
              "  <tbody>\n",
              "    <tr>\n",
              "      <th>0</th>\n",
              "      <td>0.0</td>\n",
              "      <td>1.0</td>\n",
              "      <td>1.0</td>\n",
              "      <td>1.0</td>\n",
              "      <td>40.0</td>\n",
              "      <td>1.0</td>\n",
              "      <td>0.0</td>\n",
              "      <td>0.0</td>\n",
              "      <td>0.0</td>\n",
              "      <td>0.0</td>\n",
              "      <td>...</td>\n",
              "      <td>1.0</td>\n",
              "      <td>0.0</td>\n",
              "      <td>5.0</td>\n",
              "      <td>18.0</td>\n",
              "      <td>15.0</td>\n",
              "      <td>1.0</td>\n",
              "      <td>0.0</td>\n",
              "      <td>9.0</td>\n",
              "      <td>4.0</td>\n",
              "      <td>3.0</td>\n",
              "    </tr>\n",
              "    <tr>\n",
              "      <th>1</th>\n",
              "      <td>0.0</td>\n",
              "      <td>0.0</td>\n",
              "      <td>0.0</td>\n",
              "      <td>0.0</td>\n",
              "      <td>25.0</td>\n",
              "      <td>1.0</td>\n",
              "      <td>0.0</td>\n",
              "      <td>0.0</td>\n",
              "      <td>1.0</td>\n",
              "      <td>0.0</td>\n",
              "      <td>...</td>\n",
              "      <td>0.0</td>\n",
              "      <td>1.0</td>\n",
              "      <td>3.0</td>\n",
              "      <td>0.0</td>\n",
              "      <td>0.0</td>\n",
              "      <td>0.0</td>\n",
              "      <td>0.0</td>\n",
              "      <td>7.0</td>\n",
              "      <td>6.0</td>\n",
              "      <td>1.0</td>\n",
              "    </tr>\n",
              "    <tr>\n",
              "      <th>2</th>\n",
              "      <td>0.0</td>\n",
              "      <td>1.0</td>\n",
              "      <td>1.0</td>\n",
              "      <td>1.0</td>\n",
              "      <td>28.0</td>\n",
              "      <td>0.0</td>\n",
              "      <td>0.0</td>\n",
              "      <td>0.0</td>\n",
              "      <td>0.0</td>\n",
              "      <td>1.0</td>\n",
              "      <td>...</td>\n",
              "      <td>1.0</td>\n",
              "      <td>1.0</td>\n",
              "      <td>5.0</td>\n",
              "      <td>30.0</td>\n",
              "      <td>30.0</td>\n",
              "      <td>1.0</td>\n",
              "      <td>0.0</td>\n",
              "      <td>9.0</td>\n",
              "      <td>4.0</td>\n",
              "      <td>8.0</td>\n",
              "    </tr>\n",
              "    <tr>\n",
              "      <th>3</th>\n",
              "      <td>0.0</td>\n",
              "      <td>1.0</td>\n",
              "      <td>0.0</td>\n",
              "      <td>1.0</td>\n",
              "      <td>27.0</td>\n",
              "      <td>0.0</td>\n",
              "      <td>0.0</td>\n",
              "      <td>0.0</td>\n",
              "      <td>1.0</td>\n",
              "      <td>1.0</td>\n",
              "      <td>...</td>\n",
              "      <td>1.0</td>\n",
              "      <td>0.0</td>\n",
              "      <td>2.0</td>\n",
              "      <td>0.0</td>\n",
              "      <td>0.0</td>\n",
              "      <td>0.0</td>\n",
              "      <td>0.0</td>\n",
              "      <td>11.0</td>\n",
              "      <td>3.0</td>\n",
              "      <td>6.0</td>\n",
              "    </tr>\n",
              "    <tr>\n",
              "      <th>4</th>\n",
              "      <td>0.0</td>\n",
              "      <td>1.0</td>\n",
              "      <td>1.0</td>\n",
              "      <td>1.0</td>\n",
              "      <td>24.0</td>\n",
              "      <td>0.0</td>\n",
              "      <td>0.0</td>\n",
              "      <td>0.0</td>\n",
              "      <td>1.0</td>\n",
              "      <td>1.0</td>\n",
              "      <td>...</td>\n",
              "      <td>1.0</td>\n",
              "      <td>0.0</td>\n",
              "      <td>2.0</td>\n",
              "      <td>3.0</td>\n",
              "      <td>0.0</td>\n",
              "      <td>0.0</td>\n",
              "      <td>0.0</td>\n",
              "      <td>11.0</td>\n",
              "      <td>5.0</td>\n",
              "      <td>4.0</td>\n",
              "    </tr>\n",
              "  </tbody>\n",
              "</table>\n",
              "<p>5 rows × 22 columns</p>\n",
              "</div>"
            ],
            "text/plain": [
              "   Diabetes_binary  HighBP  HighChol  CholCheck   BMI  Smoker  Stroke  \\\n",
              "0              0.0     1.0       1.0        1.0  40.0     1.0     0.0   \n",
              "1              0.0     0.0       0.0        0.0  25.0     1.0     0.0   \n",
              "2              0.0     1.0       1.0        1.0  28.0     0.0     0.0   \n",
              "3              0.0     1.0       0.0        1.0  27.0     0.0     0.0   \n",
              "4              0.0     1.0       1.0        1.0  24.0     0.0     0.0   \n",
              "\n",
              "   HeartDiseaseorAttack  PhysActivity  Fruits  ...  AnyHealthcare  \\\n",
              "0                   0.0           0.0     0.0  ...            1.0   \n",
              "1                   0.0           1.0     0.0  ...            0.0   \n",
              "2                   0.0           0.0     1.0  ...            1.0   \n",
              "3                   0.0           1.0     1.0  ...            1.0   \n",
              "4                   0.0           1.0     1.0  ...            1.0   \n",
              "\n",
              "   NoDocbcCost  GenHlth  MentHlth  PhysHlth  DiffWalk  Sex   Age  Education  \\\n",
              "0          0.0      5.0      18.0      15.0       1.0  0.0   9.0        4.0   \n",
              "1          1.0      3.0       0.0       0.0       0.0  0.0   7.0        6.0   \n",
              "2          1.0      5.0      30.0      30.0       1.0  0.0   9.0        4.0   \n",
              "3          0.0      2.0       0.0       0.0       0.0  0.0  11.0        3.0   \n",
              "4          0.0      2.0       3.0       0.0       0.0  0.0  11.0        5.0   \n",
              "\n",
              "   Income  \n",
              "0     3.0  \n",
              "1     1.0  \n",
              "2     8.0  \n",
              "3     6.0  \n",
              "4     4.0  \n",
              "\n",
              "[5 rows x 22 columns]"
            ]
          },
          "execution_count": 3,
          "metadata": {},
          "output_type": "execute_result"
        }
      ],
      "source": [
        "df.head()"
      ]
    },
    {
      "cell_type": "code",
      "execution_count": 4,
      "metadata": {
        "colab": {
          "base_uri": "https://localhost:8080/"
        },
        "id": "JoTghn0hwGGQ",
        "outputId": "eb13c223-c023-4283-8559-4666055c8de9"
      },
      "outputs": [
        {
          "name": "stdout",
          "output_type": "stream",
          "text": [
            "<class 'pandas.core.frame.DataFrame'>\n",
            "RangeIndex: 229474 entries, 0 to 229473\n",
            "Data columns (total 22 columns):\n",
            " #   Column                Non-Null Count   Dtype  \n",
            "---  ------                --------------   -----  \n",
            " 0   Diabetes_binary       229474 non-null  float64\n",
            " 1   HighBP                229474 non-null  float64\n",
            " 2   HighChol              229474 non-null  float64\n",
            " 3   CholCheck             229474 non-null  float64\n",
            " 4   BMI                   229474 non-null  float64\n",
            " 5   Smoker                229474 non-null  float64\n",
            " 6   Stroke                229474 non-null  float64\n",
            " 7   HeartDiseaseorAttack  229474 non-null  float64\n",
            " 8   PhysActivity          229474 non-null  float64\n",
            " 9   Fruits                229474 non-null  float64\n",
            " 10  Veggies               229474 non-null  float64\n",
            " 11  HvyAlcoholConsump     229474 non-null  float64\n",
            " 12  AnyHealthcare         229474 non-null  float64\n",
            " 13  NoDocbcCost           229474 non-null  float64\n",
            " 14  GenHlth               229474 non-null  float64\n",
            " 15  MentHlth              229474 non-null  float64\n",
            " 16  PhysHlth              229474 non-null  float64\n",
            " 17  DiffWalk              229474 non-null  float64\n",
            " 18  Sex                   229474 non-null  float64\n",
            " 19  Age                   229474 non-null  float64\n",
            " 20  Education             229474 non-null  float64\n",
            " 21  Income                229474 non-null  float64\n",
            "dtypes: float64(22)\n",
            "memory usage: 38.5 MB\n"
          ]
        }
      ],
      "source": [
        "df.info()"
      ]
    },
    {
      "cell_type": "markdown",
      "metadata": {
        "id": "T52amWSkJJ13"
      },
      "source": [
        "#### **Diabetes_binary's correlation with other columns**\n",
        "- threshold = 0.1\n",
        "- if |correlation| >= threshold we consider the feature is correlated with Diabetes_binary"
      ]
    },
    {
      "cell_type": "code",
      "execution_count": 5,
      "metadata": {
        "colab": {
          "base_uri": "https://localhost:8080/",
          "height": 699
        },
        "id": "yHIeOcSlzKrQ",
        "outputId": "4dbf26f0-8ef2-448f-9aac-6386283cd75d"
      },
      "outputs": [
        {
          "data": {
            "image/png": "[encoded data removed]",
            "text/plain": [
              "<Figure size 1500x800 with 2 Axes>"
            ]
          },
          "metadata": {},
          "output_type": "display_data"
        }
      ],
      "source": [
        "cor_matrix = df.corr()\n",
        "\n",
        "#heatmap\n",
        "plt.figure(figsize=(15,8))\n",
        "sns.heatmap(cor_matrix[['Diabetes_binary']].sort_values(by='Diabetes_binary' , ascending= False) , annot=True, cmap='rocket' , fmt='.2f')\n",
        "plt.title('Feature Correlation with Diabetes_binary')\n",
        "plt.show()"
      ]
    },
    {
      "cell_type": "markdown",
      "metadata": {
        "id": "MCR_pyjFGKS7"
      },
      "source": [
        "- Postive correlated : `HighBP` , `HighChol` , `BMI` , `DiffWalk` , `GenHlth` , `Age` , `HeartDiseaseorAttack` , `PhysHlth` and `Stroke`\n",
        "- Negative correlated : `PhysActivity` , `Education` and `income`"
      ]
    },
    {
      "cell_type": "markdown",
      "metadata": {
        "id": "dYxJp1S8K2Q9"
      },
      "source": [
        "### Try to find best features with Chi-Squared and Anova-Test"
      ]
    },
    {
      "cell_type": "code",
      "execution_count": 6,
      "metadata": {
        "id": "pdomA4hAAxIk"
      },
      "outputs": [],
      "source": [
        "from sklearn.feature_selection import SelectKBest , chi2 , f_classif\n",
        "from sklearn.preprocessing import MinMaxScaler\n",
        "\n",
        "X = df.drop('Diabetes_binary' , axis=1)\n",
        "y = df['Diabetes_binary']\n",
        "\n",
        "scaler = MinMaxScaler()\n",
        "X_scaled = scaler.fit_transform(X)\n",
        "\n",
        "# Apply Chi-Squared\n",
        "chi2_selector = SelectKBest(chi2 , k='all')\n",
        "X_chi2 = chi2_selector.fit_transform(X_scaled , y)\n",
        "chi_scores = pd.Series(chi2_selector.scores_ , index=X.columns).sort_values(ascending=False)\n",
        "\n",
        "# Apply Anova\n",
        "anova_selector = SelectKBest(f_classif , k='all')\n",
        "X_anova = anova_selector.fit_transform(X_scaled , y)\n",
        "anova_scores = pd.Series(anova_selector.scores_ , index=X.columns).sort_values(ascending=False)"
      ]
    },
    {
      "cell_type": "code",
      "execution_count": 7,
      "metadata": {
        "colab": {
          "base_uri": "https://localhost:8080/",
          "height": 743
        },
        "id": "D0nky8geMK51",
        "outputId": "516b198a-41c9-48da-d62e-e3a65ae44ca1"
      },
      "outputs": [
        {
          "data": {
            "text/plain": [
              "HighBP                  8098.548237\n",
              "DiffWalk                7875.496177\n",
              "HeartDiseaseorAttack    5822.145697\n",
              "HighChol                4869.312739\n",
              "PhysHlth                3266.292056\n",
              "GenHlth                 3115.279621\n",
              "Stroke                  2156.678382\n",
              "HvyAlcoholConsump        937.401148\n",
              "Age                      812.103743\n",
              "PhysActivity             617.563886\n",
              "Income                   581.129755\n",
              "MentHlth                 380.652825\n",
              "BMI                      309.992581\n",
              "Smoker                   253.826098\n",
              "Sex                      137.837135\n",
              "Education                119.900184\n",
              "NoDocbcCost               83.662830\n",
              "Veggies                   82.098846\n",
              "Fruits                    54.688897\n",
              "CholCheck                 48.904140\n",
              "AnyHealthcare              7.949731\n",
              "dtype: float64"
            ]
          },
          "execution_count": 7,
          "metadata": {},
          "output_type": "execute_result"
        }
      ],
      "source": [
        "chi_scores"
      ]
    },
    {
      "cell_type": "markdown",
      "metadata": {
        "id": "BSZnTOh4MOjH"
      },
      "source": [
        "#### Best Features By Chi-Squared Test\n",
        "1. HighBP\n",
        "2. DiffWalk\n",
        "3. HeartDiseaseorAttack\n",
        "4. HighChol\n",
        "5. PhysHlth\n",
        "6. GenHlth\n",
        "7. Stroke"
      ]
    },
    {
      "cell_type": "code",
      "execution_count": 8,
      "metadata": {
        "colab": {
          "base_uri": "https://localhost:8080/",
          "height": 743
        },
        "id": "A-dVxT-mMPCi",
        "outputId": "c91fdb78-0b8e-4cfd-a420-5a4832ccaff0"
      },
      "outputs": [
        {
          "data": {
            "text/plain": [
              "GenHlth                 19061.436601\n",
              "HighBP                  15868.017696\n",
              "DiffWalk                10097.616798\n",
              "BMI                     10075.425186\n",
              "HighChol                 9065.177413\n",
              "Age                      7444.458687\n",
              "HeartDiseaseorAttack     6682.140008\n",
              "PhysHlth                 5739.591424\n",
              "Income                   4631.714144\n",
              "Education                2445.440895\n",
              "PhysActivity             2336.872150\n",
              "Stroke                   2280.282576\n",
              "CholCheck                1213.321927\n",
              "HvyAlcoholConsump        1002.426607\n",
              "MentHlth                  674.908702\n",
              "Smoker                    476.133601\n",
              "Veggies                   400.370333\n",
              "Sex                       245.998296\n",
              "AnyHealthcare             147.341358\n",
              "Fruits                    141.282132\n",
              "NoDocbcCost                92.269537\n",
              "dtype: float64"
            ]
          },
          "execution_count": 8,
          "metadata": {},
          "output_type": "execute_result"
        }
      ],
      "source": [
        "anova_scores"
      ]
    },
    {
      "cell_type": "markdown",
      "metadata": {
        "id": "yyD4r_LFNcyD"
      },
      "source": [
        "#### Best Features By Anova Test\n",
        "1. GenHlth\n",
        "2. HighBP\n",
        "3. DiffWalk\n",
        "4. BMI\n",
        "5. HighChol\n",
        "6. Age\n",
        "7. HeartDiseaseorAttack"
      ]
    },
    {
      "cell_type": "markdown",
      "metadata": {
        "id": "K-4d4ozqOlff"
      },
      "source": [
        "## Top Features For the ML Models\n",
        "- HighBP\n",
        "- GenHlth\n",
        "- DiffWalk\n",
        "- BMI\n",
        "- HighChol\n",
        "- HeartDiseaseorAttack\n",
        "- PhysHlth\n",
        "- Age\n",
        "- Stroke\n",
        "- Income"
      ]
    },
    {
      "cell_type": "code",
      "execution_count": 9,
      "metadata": {
        "colab": {
          "base_uri": "https://localhost:8080/",
          "height": 206
        },
        "id": "1qLjI6i3PI5N",
        "outputId": "52768d81-c094-48f0-949b-fa049298eec5"
      },
      "outputs": [
        {
          "data": {
            "text/html": [
              "<div>\n",
              "<style scoped>\n",
              "    .dataframe tbody tr th:only-of-type {\n",
              "        vertical-align: middle;\n",
              "    }\n",
              "\n",
              "    .dataframe tbody tr th {\n",
              "        vertical-align: top;\n",
              "    }\n",
              "\n",
              "    .dataframe thead th {\n",
              "        text-align: right;\n",
              "    }\n",
              "</style>\n",
              "<table border=\"1\" class=\"dataframe\">\n",
              "  <thead>\n",
              "    <tr style=\"text-align: right;\">\n",
              "      <th></th>\n",
              "      <th>HighBP</th>\n",
              "      <th>GenHlth</th>\n",
              "      <th>DiffWalk</th>\n",
              "      <th>BMI</th>\n",
              "      <th>HighChol</th>\n",
              "      <th>HeartDiseaseorAttack</th>\n",
              "      <th>PhysHlth</th>\n",
              "      <th>Age</th>\n",
              "      <th>Stroke</th>\n",
              "      <th>Income</th>\n",
              "    </tr>\n",
              "  </thead>\n",
              "  <tbody>\n",
              "    <tr>\n",
              "      <th>0</th>\n",
              "      <td>1.0</td>\n",
              "      <td>5.0</td>\n",
              "      <td>1.0</td>\n",
              "      <td>40.0</td>\n",
              "      <td>1.0</td>\n",
              "      <td>0.0</td>\n",
              "      <td>15.0</td>\n",
              "      <td>9.0</td>\n",
              "      <td>0.0</td>\n",
              "      <td>3.0</td>\n",
              "    </tr>\n",
              "    <tr>\n",
              "      <th>1</th>\n",
              "      <td>0.0</td>\n",
              "      <td>3.0</td>\n",
              "      <td>0.0</td>\n",
              "      <td>25.0</td>\n",
              "      <td>0.0</td>\n",
              "      <td>0.0</td>\n",
              "      <td>0.0</td>\n",
              "      <td>7.0</td>\n",
              "      <td>0.0</td>\n",
              "      <td>1.0</td>\n",
              "    </tr>\n",
              "    <tr>\n",
              "      <th>2</th>\n",
              "      <td>1.0</td>\n",
              "      <td>5.0</td>\n",
              "      <td>1.0</td>\n",
              "      <td>28.0</td>\n",
              "      <td>1.0</td>\n",
              "      <td>0.0</td>\n",
              "      <td>30.0</td>\n",
              "      <td>9.0</td>\n",
              "      <td>0.0</td>\n",
              "      <td>8.0</td>\n",
              "    </tr>\n",
              "    <tr>\n",
              "      <th>3</th>\n",
              "      <td>1.0</td>\n",
              "      <td>2.0</td>\n",
              "      <td>0.0</td>\n",
              "      <td>27.0</td>\n",
              "      <td>0.0</td>\n",
              "      <td>0.0</td>\n",
              "      <td>0.0</td>\n",
              "      <td>11.0</td>\n",
              "      <td>0.0</td>\n",
              "      <td>6.0</td>\n",
              "    </tr>\n",
              "    <tr>\n",
              "      <th>4</th>\n",
              "      <td>1.0</td>\n",
              "      <td>2.0</td>\n",
              "      <td>0.0</td>\n",
              "      <td>24.0</td>\n",
              "      <td>1.0</td>\n",
              "      <td>0.0</td>\n",
              "      <td>0.0</td>\n",
              "      <td>11.0</td>\n",
              "      <td>0.0</td>\n",
              "      <td>4.0</td>\n",
              "    </tr>\n",
              "  </tbody>\n",
              "</table>\n",
              "</div>"
            ],
            "text/plain": [
              "   HighBP  GenHlth  DiffWalk   BMI  HighChol  HeartDiseaseorAttack  PhysHlth  \\\n",
              "0     1.0      5.0       1.0  40.0       1.0                   0.0      15.0   \n",
              "1     0.0      3.0       0.0  25.0       0.0                   0.0       0.0   \n",
              "2     1.0      5.0       1.0  28.0       1.0                   0.0      30.0   \n",
              "3     1.0      2.0       0.0  27.0       0.0                   0.0       0.0   \n",
              "4     1.0      2.0       0.0  24.0       1.0                   0.0       0.0   \n",
              "\n",
              "    Age  Stroke  Income  \n",
              "0   9.0     0.0     3.0  \n",
              "1   7.0     0.0     1.0  \n",
              "2   9.0     0.0     8.0  \n",
              "3  11.0     0.0     6.0  \n",
              "4  11.0     0.0     4.0  "
            ]
          },
          "execution_count": 9,
          "metadata": {},
          "output_type": "execute_result"
        }
      ],
      "source": [
        "# drop unused columns\n",
        "top_features = ['HighBP', 'GenHlth', 'DiffWalk', 'BMI', 'HighChol', 'HeartDiseaseorAttack', 'PhysHlth', 'Age', 'Stroke', 'Income']\n",
        "X_top = df[top_features]\n",
        "y = df['Diabetes_binary']\n",
        "X_top.head()"
      ]
    },
    {
      "cell_type": "markdown",
      "metadata": {
        "id": "DBcyh_EK7Ckz"
      },
      "source": [
        "## Deal with imbalance"
      ]
    },
    {
      "cell_type": "code",
      "execution_count": 10,
      "metadata": {
        "colab": {
          "base_uri": "https://localhost:8080/",
          "height": 178
        },
        "id": "t-9oKp56649W",
        "outputId": "8e5060b2-2959-4f31-8645-f34547c6f55a"
      },
      "outputs": [
        {
          "data": {
            "text/plain": [
              "Diabetes_binary\n",
              "0.0    194377\n",
              "1.0     35097\n",
              "Name: count, dtype: int64"
            ]
          },
          "execution_count": 10,
          "metadata": {},
          "output_type": "execute_result"
        }
      ],
      "source": [
        "y.value_counts()"
      ]
    },
    {
      "cell_type": "code",
      "execution_count": 11,
      "metadata": {
        "colab": {
          "base_uri": "https://localhost:8080/",
          "height": 521
        },
        "id": "udKzvq3B03U2",
        "outputId": "3ed78484-1176-49a6-b21e-7142f84d4bba"
      },
      "outputs": [
        {
          "data": {
            "image/png": "[encoded data removed]",
            "text/plain": [
              "<Figure size 800x600 with 1 Axes>"
            ]
          },
          "metadata": {},
          "output_type": "display_data"
        }
      ],
      "source": [
        "plt.figure(figsize=(8,6))\n",
        "plt.pie(y.value_counts() , labels=['0 Class' , '1 Class'] , autopct='%1.1f%%')\n",
        "plt.title('Diabetes Distribution')\n",
        "plt.show()"
      ]
    },
    {
      "cell_type": "code",
      "execution_count": 12,
      "metadata": {
        "colab": {
          "base_uri": "https://localhost:8080/"
        },
        "id": "qVponTx1zjux",
        "outputId": "ca3c3106-3315-4c5a-9561-f30bd9ca94b4"
      },
      "outputs": [
        {
          "data": {
            "text/plain": [
              "((183579, 10), (45895, 10), (183579,), (45895,))"
            ]
          },
          "execution_count": 12,
          "metadata": {},
          "output_type": "execute_result"
        }
      ],
      "source": [
        "from sklearn.model_selection import train_test_split\n",
        "\n",
        "X_train, X_test, y_train, y_test = train_test_split(X_top, y, test_size=0.2, random_state=42 , stratify= y)\n",
        "X_train.shape, X_test.shape, y_train.shape, y_test.shape"
      ]
    },
    {
      "cell_type": "code",
      "execution_count": 14,
      "metadata": {
        "id": "DLw6PcvezlD0"
      },
      "outputs": [],
      "source": [
        "from imblearn.over_sampling import SMOTE\n",
        "\n",
        "smote = SMOTE(random_state=42)\n",
        "X_resampled, y_resampled = smote.fit_resample(X_top, y)"
      ]
    },
    {
      "cell_type": "code",
      "execution_count": 15,
      "metadata": {
        "colab": {
          "base_uri": "https://localhost:8080/"
        },
        "id": "77HEF5vV3j5y",
        "outputId": "82bf44f7-ea1e-441e-9526-2357792a82a8"
      },
      "outputs": [
        {
          "data": {
            "text/plain": [
              "((388754, 10), (388754,))"
            ]
          },
          "execution_count": 15,
          "metadata": {},
          "output_type": "execute_result"
        }
      ],
      "source": [
        "X_resampled.shape, y_resampled.shape"
      ]
    },
    {
      "cell_type": "code",
      "execution_count": 16,
      "metadata": {
        "colab": {
          "base_uri": "https://localhost:8080/"
        },
        "id": "cio_PqXURvTr",
        "outputId": "9c609ce7-e406-463d-ae34-b3cd9f428580"
      },
      "outputs": [
        {
          "data": {
            "text/plain": [
              "((311003, 10), (77751, 10), (311003,), (77751,))"
            ]
          },
          "execution_count": 16,
          "metadata": {},
          "output_type": "execute_result"
        }
      ],
      "source": [
        "X_train_resampled, X_test_resampled, y_train_resampled, y_test_resampled = train_test_split(X_resampled, y_resampled, test_size=0.2, random_state=42 , stratify= y_resampled)\n",
        "X_train_resampled.shape, X_test_resampled.shape, y_train_resampled.shape, y_test_resampled.shape"
      ]
    },
    {
      "cell_type": "code",
      "execution_count": 17,
      "metadata": {
        "colab": {
          "base_uri": "https://localhost:8080/",
          "height": 521
        },
        "id": "j2YIB6Tn4dpL",
        "outputId": "0428695a-0a7a-48f7-dd0f-3c7e28a70c00"
      },
      "outputs": [
        {
          "data": {
            "image/png": "[encoded data removed]",
            "text/plain": [
              "<Figure size 800x600 with 1 Axes>"
            ]
          },
          "metadata": {},
          "output_type": "display_data"
        }
      ],
      "source": [
        "plt.figure(figsize=(8,6))\n",
        "plt.pie(y_train_resampled.value_counts() , labels=['0 Class' , '1 Class'] , autopct='%1.1f%%')\n",
        "plt.title('Diabetes Distribution')\n",
        "plt.show()"
      ]
    },
    {
      "cell_type": "markdown",
      "metadata": {
        "id": "j-EacF2l5Dhn"
      },
      "source": [
        "* Now the trained data is balanced\n",
        "\n"
      ]
    },
    {
      "cell_type": "markdown",
      "metadata": {},
      "source": [
        "# Set experiment"
      ]
    },
    {
      "cell_type": "code",
      "execution_count": 21,
      "metadata": {},
      "outputs": [
        {
          "name": "stderr",
          "output_type": "stream",
          "text": [
            "2025/05/05 13:47:12 INFO mlflow.tracking.fluent: Experiment with name 'Diabetes_Model_Experiment' does not exist. Creating a new experiment.\n"
          ]
        },
        {
          "data": {
            "text/plain": [
              "<Experiment: artifact_location='file:///c:/Users/ZizoElkhateeb/Documents/GitHub/Healthcare-DEPI-Project/Diabetes_Model/mlruns/160607827430774147', creation_time=1746442032756, experiment_id='160607827430774147', last_update_time=1746442032756, lifecycle_stage='active', name='Diabetes_Model_Experiment', tags={}>"
            ]
          },
          "execution_count": 21,
          "metadata": {},
          "output_type": "execute_result"
        }
      ],
      "source": [
        "mlflow.set_experiment(\"Diabetes_Model_Experiment\")"
      ]
    },
    {
      "cell_type": "markdown",
      "metadata": {
        "id": "L3TSLO_tBLOp"
      },
      "source": [
        "# Logistic"
      ]
    },
    {
      "cell_type": "code",
      "execution_count": 22,
      "metadata": {
        "id": "mni7q8UmEowH"
      },
      "outputs": [],
      "source": [
        "param_grid = {\n",
        "    'logisticregression__C': [0.001, 0.01, 0.1, 1, 10, 100, 1000],\n",
        "    'logisticregression__solver': ['liblinear', 'lbfgs'] # Changed 'classifier__solver' to 'logisticregression__solver'\n",
        "}"
      ]
    },
    {
      "cell_type": "code",
      "execution_count": 42,
      "metadata": {
        "colab": {
          "base_uri": "https://localhost:8080/",
          "height": 190
        },
        "id": "vUWmM0s15CoR",
        "outputId": "22412f00-08a4-46c9-dc69-da0efe2b7474"
      },
      "outputs": [
        {
          "name": "stderr",
          "output_type": "stream",
          "text": [
            "2025/05/05 17:10:56 WARNING mlflow.models.model: Model logged without a signature and input example. Please set `input_example` parameter when logging the model to auto infer the model signature.\n"
          ]
        }
      ],
      "source": [
        "from sklearn.linear_model import LogisticRegression\n",
        "from sklearn.model_selection import GridSearchCV\n",
        "from sklearn.metrics import accuracy_score,precision_score ,recall_score , classification_report, confusion_matrix\n",
        "from sklearn.pipeline import make_pipeline\n",
        "from sklearn.preprocessing import StandardScaler\n",
        "\n",
        "\n",
        "\n",
        "log_pip = make_pipeline(StandardScaler(), LogisticRegression())\n",
        "\n",
        "with mlflow.start_run(run_name=\"lr_model\"):\n",
        "    \n",
        "    log_grid_search = GridSearchCV(log_pip, param_grid, cv=5)\n",
        "    log_grid_search.fit(X_train_resampled, y_train_resampled)\n",
        "    \n",
        "    best_log_params = log_grid_search.best_params_\n",
        "    for key, value in best_log_params.items():\n",
        "        mlflow.log_param(key, value)\n",
        "    \n",
        "    y_pred_log = log_grid_search.predict(X_test_resampled)\n",
        "    \n",
        "    mlflow.sklearn.log_model(log_grid_search, \"model\")\n",
        "    \n",
        "    accuracy_log = accuracy_score(y_test_resampled, y_pred_log)\n",
        "    mlflow.log_metric(\"accuracy\", accuracy_log)\n",
        "    \n",
        "    report = classification_report(y_test_resampled, y_pred_log, output_dict=True)\n",
        "    \n",
        "    # Log precision, recall, and f1-score for both classes\n",
        "    mlflow.log_metric(\"precision_0\", report[\"0.0\"][\"precision\"])\n",
        "    mlflow.log_metric(\"recall_0\", report[\"0.0\"][\"recall\"])\n",
        "    mlflow.log_metric(\"f1_score_0\", report[\"0.0\"][\"f1-score\"])\n",
        "    \n",
        "    mlflow.log_metric(\"precision_1\", report[\"1.0\"][\"precision\"])\n",
        "    mlflow.log_metric(\"recall_1\", report[\"1.0\"][\"recall\"])\n",
        "    mlflow.log_metric(\"f1_score_1\", report[\"1.0\"][\"f1-score\"])\n",
        "    mlflow.log_metric(\"f1_score_weighted\", report[\"weighted avg\"][\"f1-score\"])\n",
        "    mlflow.log_metric(\"f1_score_macro\", report[\"macro avg\"][\"f1-score\"])\n",
        "    \n",
        "    # Log the classification report as an artifact\n",
        "    import json\n",
        "    with open(\"classification_report.json\", \"w\") as f:\n",
        "        json.dump(report, f, indent=4)\n",
        "\n",
        "    mlflow.log_artifact(\"classification_report.json\")\n",
        "    "
      ]
    },
    {
      "cell_type": "code",
      "execution_count": 35,
      "metadata": {
        "colab": {
          "base_uri": "https://localhost:8080/"
        },
        "id": "GAJqpCGwHCsO",
        "outputId": "113498c7-425f-4989-c7dd-1255f8377ea5"
      },
      "outputs": [
        {
          "data": {
            "text/plain": [
              "{'logisticregression__C': 0.01, 'logisticregression__solver': 'liblinear'}"
            ]
          },
          "execution_count": 35,
          "metadata": {},
          "output_type": "execute_result"
        }
      ],
      "source": [
        "log_grid_search.best_params_"
      ]
    },
    {
      "cell_type": "code",
      "execution_count": 36,
      "metadata": {
        "colab": {
          "base_uri": "https://localhost:8080/"
        },
        "id": "XVPJ7VYHDzt6",
        "outputId": "1c792568-87d5-49b8-cf17-c323340067d0"
      },
      "outputs": [
        {
          "name": "stdout",
          "output_type": "stream",
          "text": [
            "0.7339584056796697\n"
          ]
        }
      ],
      "source": [
        "y_pred = log_grid_search.predict(X_test_resampled)\n",
        "\n",
        "print(accuracy_score(y_test_resampled, y_pred))\n"
      ]
    },
    {
      "cell_type": "code",
      "execution_count": 37,
      "metadata": {
        "colab": {
          "base_uri": "https://localhost:8080/"
        },
        "id": "ZezumLXjD2_r",
        "outputId": "a8178e33-60d0-42c8-b6d2-c7e2553697e2"
      },
      "outputs": [
        {
          "name": "stdout",
          "output_type": "stream",
          "text": [
            "              precision    recall  f1-score   support\n",
            "\n",
            "         0.0       0.75      0.71      0.73     38876\n",
            "         1.0       0.72      0.76      0.74     38875\n",
            "\n",
            "    accuracy                           0.73     77751\n",
            "   macro avg       0.73      0.73      0.73     77751\n",
            "weighted avg       0.73      0.73      0.73     77751\n",
            "\n"
          ]
        }
      ],
      "source": [
        "print(classification_report(y_test_resampled, y_pred))"
      ]
    },
    {
      "cell_type": "code",
      "execution_count": 38,
      "metadata": {
        "colab": {
          "base_uri": "https://localhost:8080/",
          "height": 564
        },
        "id": "a83naDfgD3x9",
        "outputId": "0b22dad5-0642-4ff4-af41-a59fcb87ab17"
      },
      "outputs": [
        {
          "data": {
            "image/png": "[encoded data removed]",
            "text/plain": [
              "<Figure size 800x600 with 1 Axes>"
            ]
          },
          "metadata": {},
          "output_type": "display_data"
        }
      ],
      "source": [
        "cm1 = confusion_matrix(y_test_resampled, y_pred)\n",
        "\n",
        "plt.figure(figsize=(8, 6))\n",
        "sns.heatmap(cm1, annot=True, fmt=\"d\", cmap=\"Blues\", cbar=False,\n",
        "            xticklabels=['Predicted 0', 'Predicted 1'],\n",
        "            yticklabels=['Actual 0', 'Actual 1'])\n",
        "plt.xlabel('Predicted Labels')\n",
        "plt.ylabel('True Labels')\n",
        "plt.title('Confusion Matrix')\n",
        "plt.show()\n"
      ]
    },
    {
      "cell_type": "markdown",
      "metadata": {
        "id": "xujynuOROLuQ"
      },
      "source": [
        "# Desicion Tree"
      ]
    },
    {
      "cell_type": "code",
      "execution_count": 39,
      "metadata": {
        "id": "jJqvkHqvOOh8"
      },
      "outputs": [],
      "source": [
        "dt_param_grid = {\n",
        "    'decisiontreeclassifier__criterion': ['gini', 'entropy'],\n",
        "    'decisiontreeclassifier__max_depth': [None, 10, 20, 30],\n",
        "    'decisiontreeclassifier__min_samples_split': [2, 5, 10],\n",
        "    'decisiontreeclassifier__min_samples_leaf': [1, 2, 4]\n",
        "}"
      ]
    },
    {
      "cell_type": "code",
      "execution_count": 43,
      "metadata": {
        "colab": {
          "base_uri": "https://localhost:8080/",
          "height": 190
        },
        "id": "bi_ImYGrO3er",
        "outputId": "e371a203-6414-4afe-8682-9acdc061de7a"
      },
      "outputs": [
        {
          "name": "stderr",
          "output_type": "stream",
          "text": [
            "2025/05/05 17:19:44 WARNING mlflow.models.model: Model logged without a signature and input example. Please set `input_example` parameter when logging the model to auto infer the model signature.\n"
          ]
        }
      ],
      "source": [
        "from sklearn.tree import DecisionTreeClassifier\n",
        "\n",
        "dt_pip = make_pipeline(StandardScaler(), DecisionTreeClassifier())\n",
        "\n",
        "with mlflow.start_run(run_name=\"dt_model\"):\n",
        "    \n",
        "    # Fit the model\n",
        "    dt_grid_search = GridSearchCV(dt_pip, dt_param_grid, cv=5)\n",
        "    dt_grid_search.fit(X_train_resampled, y_train_resampled)\n",
        "    \n",
        "    best_log_params = dt_grid_search.best_params_\n",
        "    for key, value in best_log_params.items():\n",
        "        mlflow.log_param(key, value)\n",
        "    \n",
        "    y_pred_dt = dt_grid_search.predict(X_test_resampled)\n",
        "    \n",
        "    mlflow.sklearn.log_model(dt_grid_search, \"model\")\n",
        "    \n",
        "    accuracy = accuracy_score(y_test_resampled, y_pred_dt)\n",
        "    mlflow.log_metric(\"accuracy\", accuracy)\n",
        "        \n",
        "    report = classification_report(y_test_resampled, y_pred_dt, output_dict=True)\n",
        "    # Log precision, recall, and f1-score for both classes\n",
        "    mlflow.log_metric(\"precision_0\", report[\"0.0\"][\"precision\"])\n",
        "    mlflow.log_metric(\"recall_0\", report[\"0.0\"][\"recall\"])\n",
        "    mlflow.log_metric(\"f1_score_0\", report[\"0.0\"][\"f1-score\"])\n",
        "    \n",
        "    mlflow.log_metric(\"precision_1\", report[\"1.0\"][\"precision\"])\n",
        "    mlflow.log_metric(\"recall_1\", report[\"1.0\"][\"recall\"])\n",
        "    mlflow.log_metric(\"f1_score_1\", report[\"1.0\"][\"f1-score\"])\n",
        "    \n",
        "    # Log the classification report as an artifact\n",
        "    with open(\"classification_report.json\", \"w\") as f:\n",
        "        json.dump(report, f, indent=4)\n",
        "    \n",
        "    mlflow.log_artifact(\"classification_report.json\")\n",
        "        "
      ]
    },
    {
      "cell_type": "code",
      "execution_count": 41,
      "metadata": {},
      "outputs": [
        {
          "data": {
            "text/plain": [
              "{'decisiontreeclassifier__criterion': 'entropy',\n",
              " 'decisiontreeclassifier__max_depth': None,\n",
              " 'decisiontreeclassifier__min_samples_leaf': 1,\n",
              " 'decisiontreeclassifier__min_samples_split': 5}"
            ]
          },
          "execution_count": 41,
          "metadata": {},
          "output_type": "execute_result"
        }
      ],
      "source": [
        "# best parameters\n",
        "dt_grid_search.best_params_"
      ]
    },
    {
      "cell_type": "code",
      "execution_count": 44,
      "metadata": {
        "colab": {
          "base_uri": "https://localhost:8080/"
        },
        "id": "JVpeZkQMPBLc",
        "outputId": "b985c435-cdea-4b22-b4be-74f7a28b01a8"
      },
      "outputs": [
        {
          "name": "stdout",
          "output_type": "stream",
          "text": [
            "0.8578281951357539\n"
          ]
        }
      ],
      "source": [
        "y_pred = dt_grid_search.predict(X_test_resampled)\n",
        "\n",
        "print(accuracy_score(y_test_resampled, y_pred))"
      ]
    },
    {
      "cell_type": "code",
      "execution_count": 45,
      "metadata": {
        "colab": {
          "base_uri": "https://localhost:8080/"
        },
        "id": "AgUTKOhJPCmj",
        "outputId": "3b0b1270-8a30-47f6-9f7b-41f4570fb263"
      },
      "outputs": [
        {
          "name": "stdout",
          "output_type": "stream",
          "text": [
            "              precision    recall  f1-score   support\n",
            "\n",
            "         0.0       0.84      0.88      0.86     38876\n",
            "         1.0       0.88      0.83      0.85     38875\n",
            "\n",
            "    accuracy                           0.86     77751\n",
            "   macro avg       0.86      0.86      0.86     77751\n",
            "weighted avg       0.86      0.86      0.86     77751\n",
            "\n"
          ]
        }
      ],
      "source": [
        "print(classification_report(y_test_resampled, y_pred))"
      ]
    },
    {
      "cell_type": "code",
      "execution_count": 46,
      "metadata": {
        "colab": {
          "base_uri": "https://localhost:8080/",
          "height": 564
        },
        "id": "LnP_Ef6cPD3a",
        "outputId": "fb015eb1-a55f-4150-e016-9e4e00572227"
      },
      "outputs": [
        {
          "data": {
            "image/png": "[encoded data removed]",
            "text/plain": [
              "<Figure size 800x600 with 1 Axes>"
            ]
          },
          "metadata": {},
          "output_type": "display_data"
        }
      ],
      "source": [
        "cm2= confusion_matrix(y_test_resampled, y_pred)\n",
        "\n",
        "plt.figure(figsize=(8, 6))\n",
        "sns.heatmap(cm2, annot=True, fmt=\"d\", cmap=\"Blues\", cbar=False,\n",
        "            xticklabels=['Predicted 0', 'Predicted 1'],\n",
        "            yticklabels=['Actual 0', 'Actual 1'])\n",
        "plt.xlabel('Predicted Labels')\n",
        "plt.ylabel('True Labels')\n",
        "plt.title('Confusion Matrix')\n",
        "plt.show()"
      ]
    },
    {
      "cell_type": "markdown",
      "metadata": {
        "id": "jyb1Ry-jEZcE"
      },
      "source": [
        "# RandomForest"
      ]
    },
    {
      "cell_type": "code",
      "execution_count": 47,
      "metadata": {
        "id": "OP9WmlpZF5JX"
      },
      "outputs": [],
      "source": [
        "rf_param_grid = {\n",
        "    'randomforestclassifier__n_estimators': [100],          # Reasonable default\n",
        "    'randomforestclassifier__max_depth': [10, 20],          # Reasonable control of complexity\n",
        "    'randomforestclassifier__min_samples_split': [2, 5],    # Minimal branching options\n",
        "    'randomforestclassifier__min_samples_leaf': [1, 2]      # Leaf options\n",
        "}"
      ]
    },
    {
      "cell_type": "code",
      "execution_count": 48,
      "metadata": {
        "colab": {
          "base_uri": "https://localhost:8080/",
          "height": 190
        },
        "id": "p5gtNQyIEFlu",
        "outputId": "a4cca496-b9bb-47a5-b96c-b5d55aeda4a0"
      },
      "outputs": [
        {
          "name": "stderr",
          "output_type": "stream",
          "text": [
            "c:\\Users\\ZizoElkhateeb\\AppData\\Local\\Programs\\Python\\Python312\\Lib\\site-packages\\numpy\\ma\\core.py:2846: RuntimeWarning: invalid value encountered in cast\n",
            "  _data = np.array(data, dtype=dtype, copy=copy,\n",
            "2025/05/05 17:42:03 WARNING mlflow.models.model: Model logged without a signature and input example. Please set `input_example` parameter when logging the model to auto infer the model signature.\n"
          ]
        }
      ],
      "source": [
        "from sklearn.ensemble import RandomForestClassifier\n",
        "\n",
        "rf_pip = make_pipeline(StandardScaler() , RandomForestClassifier())\n",
        "\n",
        "with mlflow.start_run(run_name=\"rf_model\"):\n",
        "    \n",
        "    rf_grid_search = GridSearchCV(rf_pip, rf_param_grid, cv=5)\n",
        "    rf_grid_search.fit(X_train_resampled, y_train_resampled)\n",
        "\n",
        "    best_log_params = rf_grid_search.best_params_\n",
        "    for key, value in best_log_params.items():\n",
        "        mlflow.log_param(key, value)\n",
        "    \n",
        "    y_pred_rf = rf_grid_search.predict(X_test_resampled)\n",
        "    \n",
        "    mlflow.sklearn.log_model(rf_grid_search, \"model\")\n",
        "    \n",
        "    accuracy = accuracy_score(y_test_resampled, y_pred_rf)\n",
        "    mlflow.log_metric(\"accuracy\", accuracy)\n",
        "    \n",
        "    report = classification_report(y_test_resampled, y_pred_rf, output_dict=True)\n",
        "    \n",
        "    mlflow.log_metric(\"precision_0\", report[\"0.0\"][\"precision\"])\n",
        "    mlflow.log_metric(\"recall_0\", report[\"0.0\"][\"recall\"])\n",
        "    mlflow.log_metric(\"f1_score_0\", report[\"0.0\"][\"f1-score\"])\n",
        "    mlflow.log_metric(\"precision_1\", report[\"1.0\"][\"precision\"])\n",
        "    mlflow.log_metric(\"recall_1\", report[\"1.0\"][\"recall\"])\n",
        "    mlflow.log_metric(\"f1_score_1\", report[\"1.0\"][\"f1-score\"])\n",
        "    \n",
        "    # Log the classification report as an artifact\n",
        "    with open(\"classification_report.json\", \"w\") as f:\n",
        "        json.dump(report, f, indent=4)\n",
        "    \n",
        "    mlflow.log_artifact(\"classification_report.json\")"
      ]
    },
    {
      "cell_type": "code",
      "execution_count": 50,
      "metadata": {},
      "outputs": [
        {
          "data": {
            "text/plain": [
              "{'randomforestclassifier__max_depth': 20,\n",
              " 'randomforestclassifier__min_samples_leaf': 1,\n",
              " 'randomforestclassifier__min_samples_split': 2,\n",
              " 'randomforestclassifier__n_estimators': 100}"
            ]
          },
          "execution_count": 50,
          "metadata": {},
          "output_type": "execute_result"
        }
      ],
      "source": [
        "rf_grid_search.best_params_"
      ]
    },
    {
      "cell_type": "code",
      "execution_count": 70,
      "metadata": {
        "colab": {
          "base_uri": "https://localhost:8080/"
        },
        "id": "m4GW5-14LZqZ",
        "outputId": "457da246-7859-44ba-bedd-99f2699c6375"
      },
      "outputs": [
        {
          "name": "stdout",
          "output_type": "stream",
          "text": [
            "0.8639245797481705\n"
          ]
        }
      ],
      "source": [
        "y_pred = rf_grid_search.predict(X_test_resampled)\n",
        "\n",
        "print(accuracy_score(y_test_resampled, y_pred))"
      ]
    },
    {
      "cell_type": "code",
      "execution_count": 71,
      "metadata": {
        "colab": {
          "base_uri": "https://localhost:8080/"
        },
        "id": "KYXlb5yBLjFB",
        "outputId": "613f9f6b-dcae-4a76-de0c-f5a533d5b335"
      },
      "outputs": [
        {
          "name": "stdout",
          "output_type": "stream",
          "text": [
            "              precision    recall  f1-score   support\n",
            "\n",
            "         0.0       0.86      0.87      0.87     38876\n",
            "         1.0       0.87      0.85      0.86     38875\n",
            "\n",
            "    accuracy                           0.86     77751\n",
            "   macro avg       0.86      0.86      0.86     77751\n",
            "weighted avg       0.86      0.86      0.86     77751\n",
            "\n"
          ]
        }
      ],
      "source": [
        "print(classification_report(y_test_resampled, y_pred))"
      ]
    },
    {
      "cell_type": "code",
      "execution_count": 72,
      "metadata": {
        "colab": {
          "base_uri": "https://localhost:8080/",
          "height": 564
        },
        "id": "bKtI_uT3LlxF",
        "outputId": "db4ff3a4-f4d8-4618-c895-68d4b2ee615a"
      },
      "outputs": [
        {
          "data": {
            "image/png": "[encoded data removed]",
            "text/plain": [
              "<Figure size 800x600 with 1 Axes>"
            ]
          },
          "metadata": {},
          "output_type": "display_data"
        }
      ],
      "source": [
        "cm3 = confusion_matrix(y_test_resampled, y_pred)\n",
        "plt.figure(figsize=(8, 6))\n",
        "sns.heatmap(cm3, annot=True, fmt=\"d\", cmap=\"Blues\", cbar=False,\n",
        "            xticklabels=['Predicted 0', 'Predicted 1'],\n",
        "            yticklabels=['Actual 0', 'Actual 1'])\n",
        "plt.xlabel('Predicted Labels')\n",
        "plt.ylabel('True Labels')\n",
        "plt.title('Confusion Matrix')\n",
        "plt.show()"
      ]
    },
    {
      "cell_type": "markdown",
      "metadata": {
        "id": "7fEZ6v2IbokZ"
      },
      "source": [
        "# XGBoost"
      ]
    },
    {
      "cell_type": "code",
      "execution_count": 51,
      "metadata": {
        "id": "zrcBf6hdbtvG"
      },
      "outputs": [],
      "source": [
        "xgb_param_grid = {\n",
        "    'xgbclassifier__n_estimators': [100, 200],\n",
        "    'xgbclassifier__max_depth': [3, 6, 10],\n",
        "    'xgbclassifier__learning_rate': [0.01, 0.1],\n",
        "    'xgbclassifier__subsample': [0.8, 1],\n",
        "    'xgbclassifier__colsample_bytree': [0.8, 1]\n",
        "}"
      ]
    },
    {
      "cell_type": "code",
      "execution_count": 52,
      "metadata": {
        "colab": {
          "base_uri": "https://localhost:8080/",
          "height": 190
        },
        "id": "It8A--mpBhu7",
        "outputId": "21937996-8723-4cf3-905e-9869cef2bedb"
      },
      "outputs": [
        {
          "name": "stderr",
          "output_type": "stream",
          "text": [
            "2025/05/05 18:07:02 WARNING mlflow.models.model: Model logged without a signature and input example. Please set `input_example` parameter when logging the model to auto infer the model signature.\n"
          ]
        }
      ],
      "source": [
        "from xgboost import XGBClassifier\n",
        "\n",
        "xgb_pip = make_pipeline(StandardScaler() , XGBClassifier())\n",
        "\n",
        "with mlflow.start_run(run_name=\"xgb_model\"):\n",
        "    \n",
        "    xgb_grid_search = GridSearchCV(xgb_pip, xgb_param_grid, cv=5)\n",
        "    xgb_grid_search.fit(X_train_resampled, y_train_resampled)\n",
        "    \n",
        "    best_log_params = xgb_grid_search.best_params_\n",
        "    for key, value in best_log_params.items():\n",
        "        mlflow.log_param(key, value)\n",
        "    \n",
        "    y_pred_xgb = xgb_grid_search.predict(X_test_resampled)\n",
        "    mlflow.sklearn.log_model(xgb_grid_search, \"model\")\n",
        "    \n",
        "    accuracy = accuracy_score(y_test_resampled, y_pred_xgb)\n",
        "    mlflow.log_metric(\"accuracy\", accuracy)\n",
        "    \n",
        "    report = classification_report(y_test_resampled, y_pred_xgb, output_dict=True)\n",
        "    mlflow.log_metric(\"precision_0\", report[\"0.0\"][\"precision\"])\n",
        "    mlflow.log_metric(\"recall_0\", report[\"0.0\"][\"recall\"])\n",
        "    mlflow.log_metric(\"f1_score_0\", report[\"0.0\"][\"f1-score\"])\n",
        "    \n",
        "    mlflow.log_metric(\"precision_1\", report[\"1.0\"][\"precision\"])\n",
        "    mlflow.log_metric(\"recall_1\", report[\"1.0\"][\"recall\"])\n",
        "    mlflow.log_metric(\"f1_score_1\", report[\"1.0\"][\"f1-score\"])\n",
        "    \n",
        "    # Log the classification report as an artifact\n",
        "    with open(\"classification_report.json\", \"w\") as f:\n",
        "        json.dump(report, f, indent=4)\n",
        "    \n",
        "    mlflow.log_artifact(\"classification_report.json\")"
      ]
    },
    {
      "cell_type": "code",
      "execution_count": 53,
      "metadata": {},
      "outputs": [
        {
          "data": {
            "text/plain": [
              "{'xgbclassifier__colsample_bytree': 1,\n",
              " 'xgbclassifier__learning_rate': 0.1,\n",
              " 'xgbclassifier__max_depth': 10,\n",
              " 'xgbclassifier__n_estimators': 200,\n",
              " 'xgbclassifier__subsample': 0.8}"
            ]
          },
          "execution_count": 53,
          "metadata": {},
          "output_type": "execute_result"
        }
      ],
      "source": [
        "xgb_grid_search.best_params_"
      ]
    },
    {
      "cell_type": "code",
      "execution_count": 54,
      "metadata": {
        "colab": {
          "base_uri": "https://localhost:8080/"
        },
        "id": "dC8efJocFoiX",
        "outputId": "d2736c61-2d82-41e6-ea0a-00e18eff12f9"
      },
      "outputs": [
        {
          "name": "stdout",
          "output_type": "stream",
          "text": [
            "0.8684904374220267\n"
          ]
        }
      ],
      "source": [
        "y_pred = xgb_grid_search.predict(X_test_resampled)\n",
        "\n",
        "print(accuracy_score(y_test_resampled, y_pred))"
      ]
    },
    {
      "cell_type": "code",
      "execution_count": 55,
      "metadata": {
        "colab": {
          "base_uri": "https://localhost:8080/"
        },
        "id": "f3e_p2yyF1EE",
        "outputId": "139c6c3b-ca9e-4856-8783-78eebf480a79"
      },
      "outputs": [
        {
          "name": "stdout",
          "output_type": "stream",
          "text": [
            "              precision    recall  f1-score   support\n",
            "\n",
            "         0.0       0.84      0.92      0.87     38876\n",
            "         1.0       0.91      0.82      0.86     38875\n",
            "\n",
            "    accuracy                           0.87     77751\n",
            "   macro avg       0.87      0.87      0.87     77751\n",
            "weighted avg       0.87      0.87      0.87     77751\n",
            "\n"
          ]
        }
      ],
      "source": [
        "print(classification_report(y_test_resampled, y_pred))"
      ]
    },
    {
      "cell_type": "code",
      "execution_count": 56,
      "metadata": {
        "colab": {
          "base_uri": "https://localhost:8080/",
          "height": 564
        },
        "id": "OASmHvCAF4as",
        "outputId": "f48048fe-525a-4718-ff87-1e0d4df3c7fe"
      },
      "outputs": [
        {
          "data": {
            "image/png": "[encoded data removed]",
            "text/plain": [
              "<Figure size 800x600 with 1 Axes>"
            ]
          },
          "metadata": {},
          "output_type": "display_data"
        }
      ],
      "source": [
        "cm4= confusion_matrix(y_test_resampled, y_pred)\n",
        "plt.figure(figsize=(8, 6))\n",
        "sns.heatmap(cm4, annot=True, fmt=\"d\", cmap=\"Blues\", cbar=False,\n",
        "            xticklabels=['Predicted 0', 'Predicted 1'],\n",
        "            yticklabels=['Actual 0', 'Actual 1'])\n",
        "plt.xlabel('Predicted Labels')\n",
        "plt.ylabel('True Labels')\n",
        "plt.title('Confusion Matrix')\n",
        "plt.show()"
      ]
    },
    {
      "cell_type": "markdown",
      "metadata": {
        "id": "iKGnr7n4frso"
      },
      "source": [
        "## Best Model Accuracy and Metrics : XGBoost"
      ]
    },
    {
      "cell_type": "code",
      "execution_count": null,
      "metadata": {
        "id": "o-655Zl4f-m7"
      },
      "outputs": [],
      "source": [
        "import pickle\n",
        "\n",
        "# Save the trained XGBoost model (or pipeline + gridsearch)\n",
        "with open('xgboost_model.pkl', 'wb') as file:\n",
        "    pickle.dump(xgb_grid_search, file)"
      ]
    },
    {
      "cell_type": "code",
      "execution_count": null,
      "metadata": {
        "colab": {
          "base_uri": "https://localhost:8080/",
          "height": 17
        },
        "id": "CB4q5spjUleJ",
        "outputId": "b8522b59-4f08-46ae-db8c-6d2cdfff6254"
      },
      "outputs": [
        {
          "data": {
            "application/javascript": "\n    async function download(id, filename, size) {\n      if (!google.colab.kernel.accessAllowed) {\n        return;\n      }\n      const div = document.createElement('div');\n      const label = document.createElement('label');\n      label.textContent = `Downloading \"${filename}\": `;\n      div.appendChild(label);\n      const progress = document.createElement('progress');\n      progress.max = size;\n      div.appendChild(progress);\n      document.body.appendChild(div);\n\n      const buffers = [];\n      let downloaded = 0;\n\n      const channel = await google.colab.kernel.comms.open(id);\n      // Send a message to notify the kernel that we're ready.\n      channel.send({})\n\n      for await (const message of channel.messages) {\n        // Send a message to notify the kernel that we're ready.\n        channel.send({})\n        if (message.buffers) {\n          for (const buffer of message.buffers) {\n            buffers.push(buffer);\n            downloaded += buffer.byteLength;\n            progress.value = downloaded;\n          }\n        }\n      }\n      const blob = new Blob(buffers, {type: 'application/binary'});\n      const a = document.createElement('a');\n      a.href = window.URL.createObjectURL(blob);\n      a.download = filename;\n      div.appendChild(a);\n      a.click();\n      div.remove();\n    }\n  ",
            "text/plain": [
              "<IPython.core.display.Javascript object>"
            ]
          },
          "metadata": {},
          "output_type": "display_data"
        },
        {
          "data": {
            "application/javascript": "download(\"download_f0d66225-e987-4c0e-93d7-63c341d6b4bb\", \"xgboost_model.pkl\", 3719818)",
            "text/plain": [
              "<IPython.core.display.Javascript object>"
            ]
          },
          "metadata": {},
          "output_type": "display_data"
        }
      ],
      "source": [
        "'''from google.colab import files\n",
        "files.download('xgboost_model.pkl')'''"
      ]
    }
  ],
  "metadata": {
    "colab": {
      "provenance": []
    },
    "kernelspec": {
      "display_name": "Python 3",
      "name": "python3"
    },
    "language_info": {
      "codemirror_mode": {
        "name": "ipython",
        "version": 3
      },
      "file_extension": ".py",
      "mimetype": "text/x-python",
      "name": "python",
      "nbconvert_exporter": "python",
      "pygments_lexer": "ipython3",
      "version": "3.12.5"
    }
  },
  "nbformat": 4,
  "nbformat_minor": 0
}
